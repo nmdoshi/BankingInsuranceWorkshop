{
    "cells": [
        {
            "cell_type": "code",
            "execution_count": 1,
            "metadata": {},
            "outputs": [],
            "source": "# The code was removed by Watson Studio for sharing."
        },
        {
            "cell_type": "code",
            "execution_count": 2,
            "metadata": {},
            "outputs": [],
            "source": "import matplotlib.pyplot as plt\nimport numpy as np\nimport pandas as pd\n%matplotlib inline \n\nimport math\n\nfrom project_lib import Project # from watson studio desktop to read data from projects"
        },
        {
            "cell_type": "code",
            "execution_count": 3,
            "metadata": {},
            "outputs": [],
            "source": "# next few lines are for cplex\nimport sys \ntry:   \n    import docplex.mp\n    import cplex\nexcept:\n    if hasattr(sys, 'real_prefix'):\n        #we are in a virtual env.\n        !pip install docplex\n        !pip install cplex\n    else:\n        !pip install --user docplex\n        !pip install --user cplex\n\nfrom docplex.mp.advmodel import AdvModel as Model        "
        },
        {
            "cell_type": "markdown",
            "metadata": {},
            "source": "# Read Stock Data"
        },
        {
            "cell_type": "code",
            "execution_count": 4,
            "metadata": {},
            "outputs": [
                {
                    "data": {
                        "text/html": "<div>\n<style scoped>\n    .dataframe tbody tr th:only-of-type {\n        vertical-align: middle;\n    }\n\n    .dataframe tbody tr th {\n        vertical-align: top;\n    }\n\n    .dataframe thead th {\n        text-align: right;\n    }\n</style>\n<table border=\"1\" class=\"dataframe\">\n  <thead>\n    <tr style=\"text-align: right;\">\n      <th></th>\n      <th>date</th>\n      <th>symbol</th>\n      <th>volume</th>\n      <th>open</th>\n      <th>close</th>\n      <th>high</th>\n      <th>low</th>\n      <th>adjclose</th>\n    </tr>\n  </thead>\n  <tbody>\n    <tr>\n      <th>0</th>\n      <td>2019-04-18</td>\n      <td>A</td>\n      <td>2874100</td>\n      <td>75.730003</td>\n      <td>76.169998</td>\n      <td>76.540001</td>\n      <td>75.309998</td>\n      <td>76.169998</td>\n    </tr>\n    <tr>\n      <th>1</th>\n      <td>2019-04-17</td>\n      <td>A</td>\n      <td>4472000</td>\n      <td>78.150002</td>\n      <td>75.430000</td>\n      <td>78.320000</td>\n      <td>74.459999</td>\n      <td>75.430000</td>\n    </tr>\n    <tr>\n      <th>2</th>\n      <td>2019-04-16</td>\n      <td>A</td>\n      <td>3441500</td>\n      <td>80.820000</td>\n      <td>77.550003</td>\n      <td>80.959999</td>\n      <td>77.190002</td>\n      <td>77.550003</td>\n    </tr>\n    <tr>\n      <th>3</th>\n      <td>2019-04-15</td>\n      <td>A</td>\n      <td>1627300</td>\n      <td>81.000000</td>\n      <td>80.400002</td>\n      <td>81.129997</td>\n      <td>79.910004</td>\n      <td>80.400002</td>\n    </tr>\n    <tr>\n      <th>4</th>\n      <td>2019-04-12</td>\n      <td>A</td>\n      <td>1249300</td>\n      <td>81.430000</td>\n      <td>80.980003</td>\n      <td>82.059998</td>\n      <td>80.900002</td>\n      <td>80.980003</td>\n    </tr>\n  </tbody>\n</table>\n</div>",
                        "text/plain": "         date symbol   volume       open      close       high        low  \\\n0  2019-04-18      A  2874100  75.730003  76.169998  76.540001  75.309998   \n1  2019-04-17      A  4472000  78.150002  75.430000  78.320000  74.459999   \n2  2019-04-16      A  3441500  80.820000  77.550003  80.959999  77.190002   \n3  2019-04-15      A  1627300  81.000000  80.400002  81.129997  79.910004   \n4  2019-04-12      A  1249300  81.430000  80.980003  82.059998  80.900002   \n\n    adjclose  \n0  76.169998  \n1  75.430000  \n2  77.550003  \n3  80.400002  \n4  80.980003  "
                    },
                    "execution_count": 4,
                    "metadata": {},
                    "output_type": "execute_result"
                }
            ],
            "source": "# The code was removed by Watson Studio for sharing."
        },
        {
            "cell_type": "code",
            "execution_count": 5,
            "metadata": {},
            "outputs": [
                {
                    "data": {
                        "text/html": "<div>\n<style scoped>\n    .dataframe tbody tr th:only-of-type {\n        vertical-align: middle;\n    }\n\n    .dataframe tbody tr th {\n        vertical-align: top;\n    }\n\n    .dataframe thead th {\n        text-align: right;\n    }\n</style>\n<table border=\"1\" class=\"dataframe\">\n  <thead>\n    <tr style=\"text-align: right;\">\n      <th>symbol</th>\n      <th>AMZN</th>\n      <th>FB</th>\n      <th>GOOGL</th>\n      <th>IBM</th>\n      <th>MSFT</th>\n      <th>NFLX</th>\n      <th>NVDA</th>\n    </tr>\n    <tr>\n      <th>date</th>\n      <th></th>\n      <th></th>\n      <th></th>\n      <th></th>\n      <th></th>\n      <th></th>\n      <th></th>\n    </tr>\n  </thead>\n  <tbody>\n    <tr>\n      <th>2019-02-20</th>\n      <td>1622.099976</td>\n      <td>162.559998</td>\n      <td>1120.589966</td>\n      <td>138.000000</td>\n      <td>107.150002</td>\n      <td>359.910004</td>\n      <td>158.550003</td>\n    </tr>\n    <tr>\n      <th>2019-02-21</th>\n      <td>1619.439941</td>\n      <td>160.039993</td>\n      <td>1104.209961</td>\n      <td>137.839996</td>\n      <td>109.410004</td>\n      <td>356.970001</td>\n      <td>155.770004</td>\n    </tr>\n    <tr>\n      <th>2019-02-22</th>\n      <td>1631.560059</td>\n      <td>161.889999</td>\n      <td>1116.560059</td>\n      <td>139.250000</td>\n      <td>110.970001</td>\n      <td>363.019989</td>\n      <td>159.190002</td>\n    </tr>\n    <tr>\n      <th>2019-02-25</th>\n      <td>1633.000000</td>\n      <td>164.619995</td>\n      <td>1117.329956</td>\n      <td>139.460007</td>\n      <td>111.589996</td>\n      <td>363.910004</td>\n      <td>158.690002</td>\n    </tr>\n    <tr>\n      <th>2019-02-26</th>\n      <td>1636.400024</td>\n      <td>164.130005</td>\n      <td>1122.010010</td>\n      <td>139.720001</td>\n      <td>112.360001</td>\n      <td>364.970001</td>\n      <td>157.100006</td>\n    </tr>\n  </tbody>\n</table>\n</div>",
                        "text/plain": "symbol             AMZN          FB        GOOGL         IBM        MSFT  \\\ndate                                                                       \n2019-02-20  1622.099976  162.559998  1120.589966  138.000000  107.150002   \n2019-02-21  1619.439941  160.039993  1104.209961  137.839996  109.410004   \n2019-02-22  1631.560059  161.889999  1116.560059  139.250000  110.970001   \n2019-02-25  1633.000000  164.619995  1117.329956  139.460007  111.589996   \n2019-02-26  1636.400024  164.130005  1122.010010  139.720001  112.360001   \n\nsymbol            NFLX        NVDA  \ndate                                \n2019-02-20  359.910004  158.550003  \n2019-02-21  356.970001  155.770004  \n2019-02-22  363.019989  159.190002  \n2019-02-25  363.910004  158.690002  \n2019-02-26  364.970001  157.100006  "
                    },
                    "execution_count": 5,
                    "metadata": {},
                    "output_type": "execute_result"
                }
            ],
            "source": "#stocks = pd.read_csv(project.get_file(\"history_60d.csv\"))\nst = stocks[['date','symbol','close','volume']]\nlist_stocks = ['IBM','APPL','AMZN','NFLX','NVDA','FB','GOOGL','MSFT']\nst_r = st[st['symbol'].isin(list_stocks)]\n# print prices from a few stocks\nstocks_data = st_r.pivot(index='date', columns='symbol', values='close')\nstocks_data.head()"
        },
        {
            "cell_type": "markdown",
            "metadata": {},
            "source": "## Get S&P 500 Tickers from wikipedia:\n\n+ code: https://pythonprogramming.net/sp500-company-price-data-python-programming-for-finance/"
        },
        {
            "cell_type": "code",
            "execution_count": 6,
            "metadata": {},
            "outputs": [],
            "source": "import bs4 as bs\nimport pickle\nimport requests\n\ndef save_sp500_tickers():\n    resp = requests.get('http://en.wikipedia.org/wiki/List_of_S%26P_500_companies')\n    soup = bs.BeautifulSoup(resp.text, 'lxml')\n    table = soup.find('table', {'class': 'wikitable sortable'})\n    tickers = []\n    for row in table.findAll('tr')[1:]:\n        ticker = row.findAll('td')[0].text[0:-1]\n        tickers.append(ticker)\n\n    with open(\"sp500tickers.pickle\",\"wb\") as f:\n        pickle.dump(tickers,f)\n\n    return tickers\n\nsp500 = save_sp500_tickers()"
        },
        {
            "cell_type": "markdown",
            "metadata": {},
            "source": "# Get Data in the Right Shape for Optimization with CPLEX\n\n+ drop duplicates \n+ pivot data to get a matrix of dates (rows) by stocks (columns) \n"
        },
        {
            "cell_type": "code",
            "execution_count": 7,
            "metadata": {},
            "outputs": [],
            "source": "st = st.drop_duplicates(subset =['date','symbol'],keep = False)\nprices = st.pivot(index='date', columns='symbol', values='close')"
        },
        {
            "cell_type": "code",
            "execution_count": 8,
            "metadata": {},
            "outputs": [
                {
                    "data": {
                        "text/html": "<div>\n<style scoped>\n    .dataframe tbody tr th:only-of-type {\n        vertical-align: middle;\n    }\n\n    .dataframe tbody tr th {\n        vertical-align: top;\n    }\n\n    .dataframe thead th {\n        text-align: right;\n    }\n</style>\n<table border=\"1\" class=\"dataframe\">\n  <thead>\n    <tr style=\"text-align: right;\">\n      <th>symbol</th>\n      <th>A</th>\n      <th>AA</th>\n      <th>AAAU</th>\n      <th>AABA</th>\n      <th>AAC</th>\n      <th>AADR</th>\n      <th>AAL</th>\n      <th>AAMC</th>\n      <th>AAME</th>\n      <th>AAN</th>\n      <th>...</th>\n      <th>ZSL</th>\n      <th>ZTO</th>\n      <th>ZTR</th>\n      <th>ZTS</th>\n      <th>ZUMZ</th>\n      <th>ZUO</th>\n      <th>ZVO</th>\n      <th>ZYME</th>\n      <th>ZYNE</th>\n      <th>ZYXI</th>\n    </tr>\n    <tr>\n      <th>date</th>\n      <th></th>\n      <th></th>\n      <th></th>\n      <th></th>\n      <th></th>\n      <th></th>\n      <th></th>\n      <th></th>\n      <th></th>\n      <th></th>\n      <th></th>\n      <th></th>\n      <th></th>\n      <th></th>\n      <th></th>\n      <th></th>\n      <th></th>\n      <th></th>\n      <th></th>\n      <th></th>\n      <th></th>\n    </tr>\n  </thead>\n  <tbody>\n    <tr>\n      <th>2019-02-20</th>\n      <td>78.559998</td>\n      <td>29.240000</td>\n      <td>13.38</td>\n      <td>69.400002</td>\n      <td>3.12</td>\n      <td>45.840000</td>\n      <td>35.060001</td>\n      <td>33.980000</td>\n      <td>2.63</td>\n      <td>53.709999</td>\n      <td>...</td>\n      <td>34.610001</td>\n      <td>19.230000</td>\n      <td>10.56</td>\n      <td>94.389999</td>\n      <td>25.790001</td>\n      <td>23.180000</td>\n      <td>NaN</td>\n      <td>15.06</td>\n      <td>4.90</td>\n      <td>5.22</td>\n    </tr>\n    <tr>\n      <th>2019-02-21</th>\n      <td>77.889999</td>\n      <td>29.580000</td>\n      <td>13.23</td>\n      <td>69.839996</td>\n      <td>2.94</td>\n      <td>45.630001</td>\n      <td>34.980000</td>\n      <td>35.000000</td>\n      <td>2.63</td>\n      <td>54.180000</td>\n      <td>...</td>\n      <td>35.770000</td>\n      <td>19.450001</td>\n      <td>10.51</td>\n      <td>93.470001</td>\n      <td>25.090000</td>\n      <td>23.309999</td>\n      <td>NaN</td>\n      <td>15.06</td>\n      <td>5.18</td>\n      <td>5.40</td>\n    </tr>\n    <tr>\n      <th>2019-02-22</th>\n      <td>78.419998</td>\n      <td>30.170000</td>\n      <td>13.28</td>\n      <td>71.720001</td>\n      <td>2.98</td>\n      <td>46.119999</td>\n      <td>35.490002</td>\n      <td>38.799999</td>\n      <td>2.85</td>\n      <td>54.970001</td>\n      <td>...</td>\n      <td>35.279999</td>\n      <td>19.610001</td>\n      <td>10.50</td>\n      <td>94.610001</td>\n      <td>25.000000</td>\n      <td>23.969999</td>\n      <td>NaN</td>\n      <td>14.94</td>\n      <td>5.12</td>\n      <td>5.43</td>\n    </tr>\n    <tr>\n      <th>2019-02-25</th>\n      <td>79.339996</td>\n      <td>30.780001</td>\n      <td>13.26</td>\n      <td>74.029999</td>\n      <td>3.09</td>\n      <td>46.439999</td>\n      <td>35.900002</td>\n      <td>39.000000</td>\n      <td>2.79</td>\n      <td>54.230000</td>\n      <td>...</td>\n      <td>35.450001</td>\n      <td>19.700001</td>\n      <td>10.55</td>\n      <td>94.389999</td>\n      <td>24.680000</td>\n      <td>24.240000</td>\n      <td>NaN</td>\n      <td>14.97</td>\n      <td>5.04</td>\n      <td>5.57</td>\n    </tr>\n    <tr>\n      <th>2019-02-26</th>\n      <td>78.550003</td>\n      <td>30.850000</td>\n      <td>13.28</td>\n      <td>74.250000</td>\n      <td>3.02</td>\n      <td>46.389999</td>\n      <td>36.250000</td>\n      <td>39.320000</td>\n      <td>2.80</td>\n      <td>55.000000</td>\n      <td>...</td>\n      <td>35.299999</td>\n      <td>19.490000</td>\n      <td>10.56</td>\n      <td>93.489998</td>\n      <td>24.480000</td>\n      <td>23.639999</td>\n      <td>NaN</td>\n      <td>15.21</td>\n      <td>5.25</td>\n      <td>5.40</td>\n    </tr>\n  </tbody>\n</table>\n<p>5 rows \u00d7 8013 columns</p>\n</div>",
                        "text/plain": "symbol              A         AA   AAAU       AABA   AAC       AADR  \\\ndate                                                                  \n2019-02-20  78.559998  29.240000  13.38  69.400002  3.12  45.840000   \n2019-02-21  77.889999  29.580000  13.23  69.839996  2.94  45.630001   \n2019-02-22  78.419998  30.170000  13.28  71.720001  2.98  46.119999   \n2019-02-25  79.339996  30.780001  13.26  74.029999  3.09  46.439999   \n2019-02-26  78.550003  30.850000  13.28  74.250000  3.02  46.389999   \n\nsymbol            AAL       AAMC  AAME        AAN  ...        ZSL        ZTO  \\\ndate                                               ...                         \n2019-02-20  35.060001  33.980000  2.63  53.709999  ...  34.610001  19.230000   \n2019-02-21  34.980000  35.000000  2.63  54.180000  ...  35.770000  19.450001   \n2019-02-22  35.490002  38.799999  2.85  54.970001  ...  35.279999  19.610001   \n2019-02-25  35.900002  39.000000  2.79  54.230000  ...  35.450001  19.700001   \n2019-02-26  36.250000  39.320000  2.80  55.000000  ...  35.299999  19.490000   \n\nsymbol        ZTR        ZTS       ZUMZ        ZUO  ZVO   ZYME  ZYNE  ZYXI  \ndate                                                                        \n2019-02-20  10.56  94.389999  25.790001  23.180000  NaN  15.06  4.90  5.22  \n2019-02-21  10.51  93.470001  25.090000  23.309999  NaN  15.06  5.18  5.40  \n2019-02-22  10.50  94.610001  25.000000  23.969999  NaN  14.94  5.12  5.43  \n2019-02-25  10.55  94.389999  24.680000  24.240000  NaN  14.97  5.04  5.57  \n2019-02-26  10.56  93.489998  24.480000  23.639999  NaN  15.21  5.25  5.40  \n\n[5 rows x 8013 columns]"
                    },
                    "execution_count": 8,
                    "metadata": {},
                    "output_type": "execute_result"
                }
            ],
            "source": "prices.head()"
        },
        {
            "cell_type": "markdown",
            "metadata": {},
            "source": "+ stock prices are from February 20, 2019 to April 18, 2019\n+ filter out stocks that are not in the S&P500 index\n+ computing the 2-month returns as last_price / initial_price - 1"
        },
        {
            "cell_type": "code",
            "execution_count": 9,
            "metadata": {},
            "outputs": [
                {
                    "name": "stdout",
                    "output_type": "stream",
                    "text": "1st. day in data:  2019-02-20\nLast day in data:  2019-04-18\n"
                }
            ],
            "source": "num_days = prices.shape[0]\n\nprint(\"1st. day in data: \", prices.index[0]) \nprint(\"Last day in data: \", prices.index[num_days-1])"
        },
        {
            "cell_type": "code",
            "execution_count": 10,
            "metadata": {
                "scrolled": false
            },
            "outputs": [
                {
                    "name": "stdout",
                    "output_type": "stream",
                    "text": "AMCR  not in data\nBKR  not in data\nBRK.B  not in data\nBF.B  not in data\nCARR  not in data\nCTVA  not in data\nDD  not in data\nGL  not in data\nPEAK  not in data\nHWM  not in data\nJ  not in data\nLHX  not in data\nNLOK  not in data\nOTIS  not in data\nRTX  not in data\nTT  not in data\nTFC  not in data\nVIAC  not in data\n(486, 3)\n"
                }
            ],
            "source": "results = []\nlist_stocks = []\n\nfor stock in sp500:\n    try:\n        if prices[stock].isna().count() == num_days: # only getting stocks without nulls\n            initial_price = prices[stock][0]\n            last_price = prices[stock][num_days-1]\n            ret = (last_price / initial_price - 1)\n            if math.isnan(ret):\n                1\n            else:\n                results.append((stock,initial_price, last_price, ret))\n                list_stocks.append(stock)\n    except:\n        print(stock, \" not in data\")\n\ndf_stocks = pd.DataFrame(results,columns=['stock','initial_price','last_price','ret'])    \ndf_stocks.index = df_stocks.stock\ndf_stocks = df_stocks[['initial_price','last_price','ret']]\n\nprint(df_stocks.shape)"
        },
        {
            "cell_type": "markdown",
            "metadata": {},
            "source": "+ distribution of returns"
        },
        {
            "cell_type": "code",
            "execution_count": 11,
            "metadata": {},
            "outputs": [
                {
                    "data": {
                        "text/plain": "<matplotlib.axes._subplots.AxesSubplot at 0x7fd9dbdd5860>"
                    },
                    "execution_count": 11,
                    "metadata": {},
                    "output_type": "execute_result"
                },
                {
                    "data": {
                        "image/png": "[encoded data removed]",
                        "text/plain": "<Figure size 432x288 with 1 Axes>"
                    },
                    "metadata": {
                        "needs_background": "light"
                    },
                    "output_type": "display_data"
                }
            ],
            "source": "df_stocks.ret.hist(bins=20)"
        },
        {
            "cell_type": "markdown",
            "metadata": {},
            "source": "+ compute daily returns\n+ compute covariance matrix of daily returns (multiple by number of observations to have an estimate of the 2-month volatility)"
        },
        {
            "cell_type": "code",
            "execution_count": 12,
            "metadata": {},
            "outputs": [],
            "source": "daily_returns = prices[df_stocks.index].pct_change(1)\ndaily_returns = daily_returns.iloc[1:] # deletes the first row that has no daily return\ndaily_returns = daily_returns.dropna(axis='columns') # filter out stocks with NaNs"
        },
        {
            "cell_type": "code",
            "execution_count": 13,
            "metadata": {},
            "outputs": [
                {
                    "data": {
                        "text/plain": "Index(['MMM', 'ABT', 'ABBV', 'ABMD', 'ACN', 'ATVI', 'ADBE', 'AMD', 'AAP',\n       'AES',\n       ...\n       'WYNN', 'XEL', 'XRX', 'XLNX', 'XYL', 'YUM', 'ZBRA', 'ZBH', 'ZION',\n       'ZTS'],\n      dtype='object', name='symbol', length=486)"
                    },
                    "execution_count": 13,
                    "metadata": {},
                    "output_type": "execute_result"
                }
            ],
            "source": "daily_returns.columns"
        },
        {
            "cell_type": "code",
            "execution_count": 14,
            "metadata": {},
            "outputs": [],
            "source": "df_var = daily_returns[daily_returns.columns].cov() * daily_returns.shape[0]"
        },
        {
            "cell_type": "markdown",
            "metadata": {},
            "source": "# Decision Optimization with CPLEX (Community Edition)\n\n+ define the quadratic programming model\n+ create variables as the fraction to invest on each stock\n+ define constraints \n    + sum of fractions need to be 1 (all the money will be invested)\n    + target return is >= 9%\n+ define objective function: minimize variance    \n    "
        },
        {
            "cell_type": "code",
            "execution_count": 15,
            "metadata": {},
            "outputs": [],
            "source": "mdl = Model(name='stocks_portfolio')\ndf_stocks['frac'] = mdl.continuous_var_list(df_stocks.index, name='frac', ub=1)"
        },
        {
            "cell_type": "code",
            "execution_count": 16,
            "metadata": {},
            "outputs": [],
            "source": "# sum of fractions equal 100%\nmdl.add_constraint(mdl.sum(df_stocks.frac) == 1);\n\n# ensure minimal return on investment\ntarget_return = .09\nactual_return = mdl.dot(df_stocks.frac, df_stocks['ret'])\nmdl.add_kpi(actual_return, 'ROI')\nct_return = mdl.add_constraint(actual_return >= target_return)"
        },
        {
            "cell_type": "code",
            "execution_count": 17,
            "metadata": {},
            "outputs": [],
            "source": "# KPIs\nfracs = df_stocks.frac\nvariance = mdl.sum(float(df_var[s1][s2]) * fracs[s1] * fracs[s2] for s1 in df_stocks.index for s2 in df_stocks.index)\nmdl.add_kpi(variance, 'Variance')\n\n# finally the objective\nmdl.minimize(variance)"
        },
        {
            "cell_type": "code",
            "execution_count": 18,
            "metadata": {},
            "outputs": [
                {
                    "data": {
                        "text/html": "<div></div>",
                        "text/plain": "<IPython.core.display.HTML object>"
                    },
                    "metadata": {},
                    "output_type": "display_data"
                },
                {
                    "data": {
                        "text/html": "<div></div>",
                        "text/plain": "<IPython.core.display.HTML object>"
                    },
                    "metadata": {},
                    "output_type": "display_data"
                },
                {
                    "name": "stdout",
                    "output_type": "stream",
                    "text": "* model stocks_portfolio solved with objective = 0.000\n*  KPI: ROI      = 0.090\n*  KPI: Variance = 0.000\n"
                }
            ],
            "source": "assert mdl.solve(url=None, key=None), \"Solve failed\"\nmdl.report()"
        },
        {
            "cell_type": "code",
            "execution_count": 19,
            "metadata": {},
            "outputs": [
                {
                    "name": "stdout",
                    "output_type": "stream",
                    "text": "-- fraction allocated in: BIIB        : 1.55%\n-- fraction allocated in: CDNS        : 4.14%\n-- fraction allocated in: CCL         : 0.21%\n-- fraction allocated in: CMG         : 4.89%\n-- fraction allocated in: CHD         : 6.89%\n-- fraction allocated in: COST        : 0.62%\n-- fraction allocated in: COTY        : 8.16%\n-- fraction allocated in: DHR         : 4.87%\n-- fraction allocated in: DISCA       : 1.40%\n-- fraction allocated in: DLTR        : 1.83%\n-- fraction allocated in: EVRG        : 5.80%\n-- fraction allocated in: FB          : 2.84%\n-- fraction allocated in: SJM         : 4.14%\n-- fraction allocated in: LLY         : 7.08%\n-- fraction allocated in: LKQ         : 0.41%\n-- fraction allocated in: NVR         : 14.54%\n-- fraction allocated in: PGR         : 1.50%\n-- fraction allocated in: PSA         : 3.93%\n-- fraction allocated in: QCOM        : 2.59%\n-- fraction allocated in: SRE         : 7.40%\n-- fraction allocated in: TWTR        : 3.87%\n-- fraction allocated in: UAL         : 5.48%\n-- fraction allocated in: WLTW        : 0.19%\n-- fraction allocated in: YUM         : 5.67%\n"
                }
            ],
            "source": "fractions = []\nall_fracs = {}\nfor row in df_stocks.itertuples():\n    pct = 100 * row.frac.solution_value\n    all_fracs[row[0]] = pct\n    if pct>1e-3:\n        print('-- fraction allocated in: {0:<12}: {1:.2f}%'.format(row[0], pct))\n        fractions.append((row[0],pct))"
        },
        {
            "cell_type": "code",
            "execution_count": 20,
            "metadata": {},
            "outputs": [
                {
                    "data": {
                        "text/html": "<div>\n<style scoped>\n    .dataframe tbody tr th:only-of-type {\n        vertical-align: middle;\n    }\n\n    .dataframe tbody tr th {\n        vertical-align: top;\n    }\n\n    .dataframe thead th {\n        text-align: right;\n    }\n</style>\n<table border=\"1\" class=\"dataframe\">\n  <thead>\n    <tr style=\"text-align: right;\">\n      <th></th>\n      <th>stock</th>\n      <th>frac</th>\n    </tr>\n  </thead>\n  <tbody>\n    <tr>\n      <th>15</th>\n      <td>NVR</td>\n      <td>14.542040</td>\n    </tr>\n    <tr>\n      <th>6</th>\n      <td>COTY</td>\n      <td>8.164994</td>\n    </tr>\n    <tr>\n      <th>19</th>\n      <td>SRE</td>\n      <td>7.401238</td>\n    </tr>\n    <tr>\n      <th>13</th>\n      <td>LLY</td>\n      <td>7.079508</td>\n    </tr>\n    <tr>\n      <th>4</th>\n      <td>CHD</td>\n      <td>6.887451</td>\n    </tr>\n  </tbody>\n</table>\n</div>",
                        "text/plain": "   stock       frac\n15   NVR  14.542040\n6   COTY   8.164994\n19   SRE   7.401238\n13   LLY   7.079508\n4    CHD   6.887451"
                    },
                    "execution_count": 20,
                    "metadata": {},
                    "output_type": "execute_result"
                }
            ],
            "source": "fr = pd.DataFrame(fractions,columns=['stock','frac'])\nfr.sort_values(by='frac',ascending=False).head()"
        },
        {
            "cell_type": "code",
            "execution_count": 21,
            "metadata": {},
            "outputs": [
                {
                    "data": {
                        "text/plain": "(24, 2)"
                    },
                    "execution_count": 21,
                    "metadata": {},
                    "output_type": "execute_result"
                }
            ],
            "source": "fr.shape"
        },
        {
            "cell_type": "code",
            "execution_count": null,
            "metadata": {},
            "outputs": [],
            "source": ""
        }
    ],
    "metadata": {
        "kernelspec": {
            "display_name": "Python 3.6",
            "language": "python",
            "name": "python3"
        },
        "language_info": {
            "codemirror_mode": {
                "name": "ipython",
                "version": 3
            },
            "file_extension": ".py",
            "mimetype": "text/x-python",
            "name": "python",
            "nbconvert_exporter": "python",
            "pygments_lexer": "ipython3",
            "version": "3.6.9"
        }
    },
    "nbformat": 4,
    "nbformat_minor": 2
}