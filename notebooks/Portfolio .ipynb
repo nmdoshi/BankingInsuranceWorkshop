{
    "cells": [
        {
            "cell_type": "code",
            "execution_count": 1,
            "metadata": {},
            "outputs": [],
            "source": "import pandas as pd\nfrom pandas import DataFrame"
        },
        {
            "cell_type": "code",
            "execution_count": 2,
            "metadata": {},
            "outputs": [
                {
                    "data": {
                        "text/html": "<div>\n<style scoped>\n    .dataframe tbody tr th:only-of-type {\n        vertical-align: middle;\n    }\n\n    .dataframe tbody tr th {\n        vertical-align: top;\n    }\n\n    .dataframe thead th {\n        text-align: right;\n    }\n</style>\n<table border=\"1\" class=\"dataframe\">\n  <thead>\n    <tr style=\"text-align: right;\">\n      <th></th>\n      <th>return</th>\n      <th>area</th>\n    </tr>\n    <tr>\n      <th>sector</th>\n      <th></th>\n      <th></th>\n    </tr>\n  </thead>\n  <tbody>\n    <tr>\n      <th>treasury</th>\n      <td>5</td>\n      <td>N-Am.</td>\n    </tr>\n    <tr>\n      <th>hardware</th>\n      <td>17</td>\n      <td>N-Am.</td>\n    </tr>\n    <tr>\n      <th>theater</th>\n      <td>26</td>\n      <td>N-Am.</td>\n    </tr>\n    <tr>\n      <th>telecom</th>\n      <td>12</td>\n      <td>N-Am.</td>\n    </tr>\n    <tr>\n      <th>brewery</th>\n      <td>8</td>\n      <td>ww</td>\n    </tr>\n    <tr>\n      <th>highways</th>\n      <td>9</td>\n      <td>ww</td>\n    </tr>\n    <tr>\n      <th>cars</th>\n      <td>7</td>\n      <td>ww</td>\n    </tr>\n    <tr>\n      <th>bank</th>\n      <td>6</td>\n      <td>ww</td>\n    </tr>\n    <tr>\n      <th>software</th>\n      <td>31</td>\n      <td>ww</td>\n    </tr>\n    <tr>\n      <th>electronics</th>\n      <td>21</td>\n      <td>ww</td>\n    </tr>\n  </tbody>\n</table>\n</div>",
                        "text/plain": "             return   area\nsector                    \ntreasury          5  N-Am.\nhardware         17  N-Am.\ntheater          26  N-Am.\ntelecom          12  N-Am.\nbrewery           8     ww\nhighways          9     ww\ncars              7     ww\nbank              6     ww\nsoftware         31     ww\nelectronics      21     ww"
                    },
                    "execution_count": 2,
                    "metadata": {},
                    "output_type": "execute_result"
                }
            ],
            "source": "sec_data = {\n    'sector': ['treasury', 'hardware', 'theater', 'telecom', 'brewery', 'highways', 'cars', 'bank', 'software',\n               'electronics'],\n    'return': [5, 17, 26, 12, 8, 9, 7, 6, 31, 21],\n    'area': ['N-Am.', 'N-Am.', 'N-Am.', 'N-Am.', \"ww\", 'ww', 'ww', 'ww', 'ww', 'ww']\n}\n\ndf_secs = DataFrame(sec_data, columns=['sector', 'return', 'area'])\ndf_secs.set_index(['sector'], inplace=True)\n\n# store set of share names\nsecurities = df_secs.index\ndf_secs"
        },
        {
            "cell_type": "code",
            "execution_count": 3,
            "metadata": {},
            "outputs": [
                {
                    "data": {
                        "text/html": "<div>\n<style scoped>\n    .dataframe tbody tr th:only-of-type {\n        vertical-align: middle;\n    }\n\n    .dataframe tbody tr th {\n        vertical-align: top;\n    }\n\n    .dataframe thead th {\n        text-align: right;\n    }\n</style>\n<table border=\"1\" class=\"dataframe\">\n  <thead>\n    <tr style=\"text-align: right;\">\n      <th>sector</th>\n      <th>treasury</th>\n      <th>hardware</th>\n      <th>theater</th>\n      <th>telecom</th>\n      <th>brewery</th>\n      <th>highways</th>\n      <th>cars</th>\n      <th>bank</th>\n      <th>software</th>\n      <th>electronics</th>\n    </tr>\n    <tr>\n      <th>sector</th>\n      <th></th>\n      <th></th>\n      <th></th>\n      <th></th>\n      <th></th>\n      <th></th>\n      <th></th>\n      <th></th>\n      <th></th>\n      <th></th>\n    </tr>\n  </thead>\n  <tbody>\n    <tr>\n      <th>treasury</th>\n      <td>0.1</td>\n      <td>0.0</td>\n      <td>0</td>\n      <td>0</td>\n      <td>0.0</td>\n      <td>0.0</td>\n      <td>0.0</td>\n      <td>0.0</td>\n      <td>0.0</td>\n      <td>0.0</td>\n    </tr>\n    <tr>\n      <th>hardware</th>\n      <td>0.0</td>\n      <td>19.0</td>\n      <td>-2</td>\n      <td>4</td>\n      <td>1.0</td>\n      <td>1.0</td>\n      <td>1.0</td>\n      <td>0.5</td>\n      <td>10.0</td>\n      <td>5.0</td>\n    </tr>\n    <tr>\n      <th>theater</th>\n      <td>0.0</td>\n      <td>-2.0</td>\n      <td>28</td>\n      <td>1</td>\n      <td>2.0</td>\n      <td>1.0</td>\n      <td>1.0</td>\n      <td>0.0</td>\n      <td>-2.0</td>\n      <td>-1.0</td>\n    </tr>\n    <tr>\n      <th>telecom</th>\n      <td>0.0</td>\n      <td>4.0</td>\n      <td>1</td>\n      <td>22</td>\n      <td>0.0</td>\n      <td>1.0</td>\n      <td>2.0</td>\n      <td>0.0</td>\n      <td>3.0</td>\n      <td>4.0</td>\n    </tr>\n    <tr>\n      <th>brewery</th>\n      <td>0.0</td>\n      <td>1.0</td>\n      <td>2</td>\n      <td>0</td>\n      <td>4.0</td>\n      <td>-1.5</td>\n      <td>-2.0</td>\n      <td>-1.0</td>\n      <td>1.0</td>\n      <td>1.0</td>\n    </tr>\n    <tr>\n      <th>highways</th>\n      <td>0.0</td>\n      <td>1.0</td>\n      <td>1</td>\n      <td>1</td>\n      <td>-1.5</td>\n      <td>3.5</td>\n      <td>2.0</td>\n      <td>0.5</td>\n      <td>1.0</td>\n      <td>1.5</td>\n    </tr>\n    <tr>\n      <th>cars</th>\n      <td>0.0</td>\n      <td>1.0</td>\n      <td>1</td>\n      <td>2</td>\n      <td>-2.0</td>\n      <td>2.0</td>\n      <td>5.0</td>\n      <td>0.5</td>\n      <td>1.0</td>\n      <td>2.5</td>\n    </tr>\n    <tr>\n      <th>bank</th>\n      <td>0.0</td>\n      <td>0.5</td>\n      <td>0</td>\n      <td>0</td>\n      <td>-1.0</td>\n      <td>0.5</td>\n      <td>0.5</td>\n      <td>1.0</td>\n      <td>0.5</td>\n      <td>0.5</td>\n    </tr>\n    <tr>\n      <th>software</th>\n      <td>0.0</td>\n      <td>10.0</td>\n      <td>-2</td>\n      <td>3</td>\n      <td>1.0</td>\n      <td>1.0</td>\n      <td>1.0</td>\n      <td>0.5</td>\n      <td>25.0</td>\n      <td>8.0</td>\n    </tr>\n    <tr>\n      <th>electronics</th>\n      <td>0.0</td>\n      <td>5.0</td>\n      <td>-1</td>\n      <td>4</td>\n      <td>1.0</td>\n      <td>1.5</td>\n      <td>2.5</td>\n      <td>0.5</td>\n      <td>8.0</td>\n      <td>16.0</td>\n    </tr>\n  </tbody>\n</table>\n</div>",
                        "text/plain": "sector       treasury  hardware  theater  telecom  brewery  highways  cars  \\\nsector                                                                       \ntreasury          0.1       0.0        0        0      0.0       0.0   0.0   \nhardware          0.0      19.0       -2        4      1.0       1.0   1.0   \ntheater           0.0      -2.0       28        1      2.0       1.0   1.0   \ntelecom           0.0       4.0        1       22      0.0       1.0   2.0   \nbrewery           0.0       1.0        2        0      4.0      -1.5  -2.0   \nhighways          0.0       1.0        1        1     -1.5       3.5   2.0   \ncars              0.0       1.0        1        2     -2.0       2.0   5.0   \nbank              0.0       0.5        0        0     -1.0       0.5   0.5   \nsoftware          0.0      10.0       -2        3      1.0       1.0   1.0   \nelectronics       0.0       5.0       -1        4      1.0       1.5   2.5   \n\nsector       bank  software  electronics  \nsector                                    \ntreasury      0.0       0.0          0.0  \nhardware      0.5      10.0          5.0  \ntheater       0.0      -2.0         -1.0  \ntelecom       0.0       3.0          4.0  \nbrewery      -1.0       1.0          1.0  \nhighways      0.5       1.0          1.5  \ncars          0.5       1.0          2.5  \nbank          1.0       0.5          0.5  \nsoftware      0.5      25.0          8.0  \nelectronics   0.5       8.0         16.0  "
                    },
                    "execution_count": 3,
                    "metadata": {},
                    "output_type": "execute_result"
                }
            ],
            "source": "# the variance matrix\nvar = {\n    \"treasury\": [0.1, 0, 0, 0, 0, 0, 0, 0, 0, 0],\n    \"hardware\": [0, 19, -2, 4, 1, 1, 1, 0.5, 10, 5],\n    \"theater\": [0, -2, 28, 1, 2, 1, 1, 0, -2, -1],\n    \"telecom\": [0, 4, 1, 22, 0, 1, 2, 0, 3, 4],\n    \"brewery\": [0, 1, 2, 0, 4, -1.5, -2, -1, 1, 1],\n    \"highways\": [0, 1, 1, 1, -1.5, 3.5, 2, 0.5, 1, 1.5],\n    \"cars\": [0, 1, 1, 2, -2, 2, 5, 0.5, 1, 2.5],\n    \"bank\": [0, 0.5, 0, 0, -1, 0.5, 0.5, 1, 0.5, 0.5],\n    \"software\": [0, 10, -2, 3, 1, 1, 1, 0.5, 25, 8],\n    \"electronics\": [0, 5, -1, 4, 1, 1.5, 2.5, 0.5, 8, 16]\n}\n\ndfv = pd.DataFrame(var, index=securities, columns=securities)\ndfv"
        },
        {
            "cell_type": "code",
            "execution_count": 4,
            "metadata": {},
            "outputs": [
                {
                    "data": {
                        "text/html": "<div>\n<style scoped>\n    .dataframe tbody tr th:only-of-type {\n        vertical-align: middle;\n    }\n\n    .dataframe tbody tr th {\n        vertical-align: top;\n    }\n\n    .dataframe thead th {\n        text-align: right;\n    }\n</style>\n<table border=\"1\" class=\"dataframe\">\n  <thead>\n    <tr style=\"text-align: right;\">\n      <th></th>\n      <th>return</th>\n      <th>area</th>\n      <th>is_na</th>\n    </tr>\n    <tr>\n      <th>sector</th>\n      <th></th>\n      <th></th>\n      <th></th>\n    </tr>\n  </thead>\n  <tbody>\n    <tr>\n      <th>treasury</th>\n      <td>5</td>\n      <td>N-Am.</td>\n      <td>1</td>\n    </tr>\n    <tr>\n      <th>hardware</th>\n      <td>17</td>\n      <td>N-Am.</td>\n      <td>1</td>\n    </tr>\n    <tr>\n      <th>theater</th>\n      <td>26</td>\n      <td>N-Am.</td>\n      <td>1</td>\n    </tr>\n    <tr>\n      <th>telecom</th>\n      <td>12</td>\n      <td>N-Am.</td>\n      <td>1</td>\n    </tr>\n    <tr>\n      <th>brewery</th>\n      <td>8</td>\n      <td>ww</td>\n      <td>0</td>\n    </tr>\n    <tr>\n      <th>highways</th>\n      <td>9</td>\n      <td>ww</td>\n      <td>0</td>\n    </tr>\n    <tr>\n      <th>cars</th>\n      <td>7</td>\n      <td>ww</td>\n      <td>0</td>\n    </tr>\n    <tr>\n      <th>bank</th>\n      <td>6</td>\n      <td>ww</td>\n      <td>0</td>\n    </tr>\n    <tr>\n      <th>software</th>\n      <td>31</td>\n      <td>ww</td>\n      <td>0</td>\n    </tr>\n    <tr>\n      <th>electronics</th>\n      <td>21</td>\n      <td>ww</td>\n      <td>0</td>\n    </tr>\n  </tbody>\n</table>\n</div>",
                        "text/plain": "             return   area  is_na\nsector                           \ntreasury          5  N-Am.      1\nhardware         17  N-Am.      1\ntheater          26  N-Am.      1\ntelecom          12  N-Am.      1\nbrewery           8     ww      0\nhighways          9     ww      0\ncars              7     ww      0\nbank              6     ww      0\nsoftware         31     ww      0\nelectronics      21     ww      0"
                    },
                    "execution_count": 4,
                    "metadata": {},
                    "output_type": "execute_result"
                }
            ],
            "source": "def is_nam(s):\n    return 1 if s == 'N-Am.' else 0\n\ndf_secs['is_na'] = df_secs['area'].apply(is_nam)\ndf_secs"
        },
        {
            "cell_type": "code",
            "execution_count": 5,
            "metadata": {},
            "outputs": [],
            "source": "from docplex.mp.advmodel import AdvModel as Model\n\nmdl = Model(name='portfolio_miqp')"
        },
        {
            "cell_type": "code",
            "execution_count": 6,
            "metadata": {},
            "outputs": [],
            "source": "# create variables\ndf_secs['frac'] = mdl.continuous_var_list(securities, name='frac', ub=1)"
        },
        {
            "cell_type": "code",
            "execution_count": 7,
            "metadata": {},
            "outputs": [],
            "source": "# max fraction\nfrac_max = 0.3\nfor row in df_secs.itertuples():\n    mdl.add_constraint(row.frac <= 0.3)\n    \n# sum of fractions equal 100%\nmdl.add_constraint(mdl.sum(df_secs.frac) == 1);\n\n# north america constraint:\n#    - add a 1-0 column equal to 1 \n# compute the scalar product of frac variables and the 1-0 'is_na' column and set a minimum\nmdl.add_constraint(mdl.dot(df_secs.frac, df_secs.is_na) >= .4);\n\n# ensure minimal return on investment\ntarget_return = 9 # return data is expressed in percents\n# again we use scalar product to compute compound return rate\n# keep the expression to use as a kpi.\nactual_return = mdl.dot(df_secs.frac, df_secs['return'])\nmdl.add_kpi(actual_return, 'ROI')\n\n# keep the constraint for later use (more on this later)\nct_return = mdl.add_constraint(actual_return >= 9);"
        },
        {
            "cell_type": "code",
            "execution_count": 8,
            "metadata": {},
            "outputs": [],
            "source": "# KPIs\nfracs = df_secs.frac\nvariance = mdl.sum(float(dfv[sec1][sec2]) * fracs[sec1] * fracs[sec2] for sec1 in securities for sec2 in securities)\nmdl.add_kpi(variance, 'Variance')\n\n# finally the objective\nmdl.minimize(variance)"
        },
        {
            "cell_type": "code",
            "execution_count": 9,
            "metadata": {},
            "outputs": [
                {
                    "data": {
                        "text/html": "<div></div>",
                        "text/plain": "<IPython.core.display.HTML object>"
                    },
                    "metadata": {},
                    "output_type": "display_data"
                },
                {
                    "data": {
                        "text/html": "<div></div>",
                        "text/plain": "<IPython.core.display.HTML object>"
                    },
                    "metadata": {},
                    "output_type": "display_data"
                },
                {
                    "name": "stdout",
                    "output_type": "stream",
                    "text": "* model portfolio_miqp solved with objective = 0.406\n*  KPI: ROI      = 9.000\n*  KPI: Variance = 0.406\n"
                }
            ],
            "source": "assert mdl.solve()\nmdl.report()"
        },
        {
            "cell_type": "code",
            "execution_count": 10,
            "metadata": {},
            "outputs": [
                {
                    "name": "stdout",
                    "output_type": "stream",
                    "text": "-- fraction allocated in: treasury    : 30.00%\n-- fraction allocated in: hardware    : 2.08%\n-- fraction allocated in: theater     : 5.46%\n-- fraction allocated in: telecom     : 2.46%\n-- fraction allocated in: brewery     : 15.35%\n-- fraction allocated in: highways    : 8.60%\n-- fraction allocated in: cars        : 1.61%\n-- fraction allocated in: bank        : 29.00%\n-- fraction allocated in: software    : 4.34%\n-- fraction allocated in: electronics : 1.10%\n"
                }
            ],
            "source": "all_fracs = {}\nfor row in df_secs.itertuples():\n    pct = 100 * row.frac.solution_value\n    all_fracs[row[0]] = pct\n    print('-- fraction allocated in: {0:<12}: {1:.2f}%'.format(row[0], pct))"
        },
        {
            "cell_type": "code",
            "execution_count": null,
            "metadata": {},
            "outputs": [],
            "source": ""
        }
    ],
    "metadata": {
        "kernelspec": {
            "display_name": "Python 3.6",
            "language": "python",
            "name": "python3"
        },
        "language_info": {
            "codemirror_mode": {
                "name": "ipython",
                "version": 3
            },
            "file_extension": ".py",
            "mimetype": "text/x-python",
            "name": "python",
            "nbconvert_exporter": "python",
            "pygments_lexer": "ipython3",
            "version": "3.6.9"
        }
    },
    "nbformat": 4,
    "nbformat_minor": 1
}